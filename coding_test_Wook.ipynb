{
 "cells": [
  {
   "cell_type": "markdown",
   "metadata": {},
   "source": [
    "### [문제 1] 문자열 뒤집기"
   ]
  },
  {
   "cell_type": "code",
   "execution_count": 5,
   "metadata": {},
   "outputs": [
    {
     "name": "stdout",
     "output_type": "stream",
     "text": [
      "Answer : ['o', 'l', 'l', 'e', 'h']\n"
     ]
    }
   ],
   "source": [
    "# Input\n",
    "s = ['h', 'e', 'l', 'l', 'o']\n",
    "\n",
    "# Output\n",
    "s_reverse = s[::-1]\n",
    "\n",
    "print('Answer :',s_reverse)"
   ]
  },
  {
   "cell_type": "markdown",
   "metadata": {},
   "source": [
    "### [문제 2] 1부터 10000까지 8이라는 숫자가 총 몇번 나오는가?\n",
    " - 8이라는 숫자를 모두 카운팅 해야한다.\n",
    " - 예를들어 8808은 3, 8888은 4로 카운팅"
   ]
  },
  {
   "cell_type": "code",
   "execution_count": 9,
   "metadata": {},
   "outputs": [
    {
     "name": "stdout",
     "output_type": "stream",
     "text": [
      "Answer : 4000\n"
     ]
    }
   ],
   "source": [
    "# 8의 개수 카운트 변수 선언\n",
    "count = 0\n",
    "# 카운팅\n",
    "for num in range(1, 10000 + 1):\n",
    "    count += str(num).count('8')\n",
    "\n",
    "print('Answer :',count)"
   ]
  },
  {
   "cell_type": "markdown",
   "metadata": {},
   "source": [
    "### [문제 3] 배열 바꾸기\n",
    " - ```[a1,a2,a3...,an,b1,b2...bn]``` > ```[a1,b1,a2,b2...an,bn]```"
   ]
  },
  {
   "cell_type": "code",
   "execution_count": 16,
   "metadata": {},
   "outputs": [
    {
     "name": "stdout",
     "output_type": "stream",
     "text": [
      "list_a : ['a1', 'a2', 'a3', 'a4', 'a5']\n",
      "list_b : ['b1', 'b2', 'b3', 'b4', 'b5']\n",
      "\n",
      "Answer : ['a1', 'b1', 'a2', 'b2', 'a3', 'b3', 'a4', 'b4', 'a5', 'b5']\n"
     ]
    }
   ],
   "source": [
    "list_all = ['a1', 'a2', 'a3', 'a4', 'a5', 'b1', 'b2', 'b3', 'b4', 'b5']\n",
    "\n",
    "# 리스트 나누기\n",
    "list_a = list_all[:int(len(list_all)/2)]\n",
    "list_b = list_all[int(len(list_all)/2):]\n",
    "\n",
    "# 리스트 확인\n",
    "print('list_a :', list_a)\n",
    "print('list_b :', list_b)\n",
    "\n",
    "# 리스트 변환\n",
    "answer = []\n",
    "for i in range(int(len(list_all)/2)):\n",
    "    answer.append(list_a[i])\n",
    "    answer.append(list_b[i])\n",
    "\n",
    "print()\n",
    "print('Answer :', answer)"
   ]
  },
  {
   "cell_type": "markdown",
   "metadata": {},
   "source": [
    "### [문제 4] 숫자 배열하기\n",
    " - 1~9 까지의 숫자를 무작위로 배열하는 프로그램을 만들어라\n",
    " - 이 때 무작위(random)으로 배열하면 오랜 시간이 걸리기 때문에 오랜시간이 걸리지 않는 코드를 만들어라."
   ]
  },
  {
   "cell_type": "code",
   "execution_count": 32,
   "metadata": {},
   "outputs": [
    {
     "name": "stdout",
     "output_type": "stream",
     "text": [
      "[4, 9, 8, 5, 6, 3, 2, 7, 1]\n",
      "[8, 6, 4, 9, 7, 1, 2, 5, 3]\n",
      "[1, 4, 6, 2, 9, 8, 7, 3, 5]\n",
      "[8, 2, 9, 5, 6, 1, 4, 3, 7]\n",
      "[1, 3, 9, 6, 5, 7, 2, 4, 8]\n",
      "time : 0.0003557559994078474\n"
     ]
    }
   ],
   "source": [
    "import timeit\n",
    "import random\n",
    "\n",
    "# 무작위로 했을 때 시간 측정\n",
    "start = timeit.default_timer()\n",
    "\n",
    "\n",
    "# 무작위 배열 프로그램\n",
    "def random_create():\n",
    "    list_random = []\n",
    "    while True:\n",
    "        random_num = random.randint(1, 9)\n",
    "\n",
    "        if random_num not in list_random:\n",
    "            list_random.append(random_num)\n",
    "\n",
    "        if len(list_random) == 9:\n",
    "                break\n",
    "                \n",
    "    return list_random\n",
    "            \n",
    "for i in range(5):\n",
    "    print(random_create())\n",
    "\n",
    "terminate = timeit.default_timer()\n",
    "\n",
    "print('time :',terminate - start)"
   ]
  },
  {
   "cell_type": "markdown",
   "metadata": {},
   "source": [
    "## 제일 빠른 방법"
   ]
  },
  {
   "cell_type": "code",
   "execution_count": 33,
   "metadata": {},
   "outputs": [
    {
     "name": "stdout",
     "output_type": "stream",
     "text": [
      "[2, 9, 3, 6, 5, 8, 1, 7, 4]\n",
      "[7, 6, 2, 8, 5, 3, 1, 4, 9]\n",
      "[9, 6, 5, 4, 3, 1, 7, 2, 8]\n",
      "[5, 8, 9, 6, 7, 1, 2, 4, 3]\n",
      "[1, 7, 6, 8, 5, 3, 4, 2, 9]\n",
      "time : 0.00022054500004742295\n"
     ]
    }
   ],
   "source": [
    "import timeit\n",
    "import random\n",
    "\n",
    "# 무작위로 했을 때 시간 측정\n",
    "start = timeit.default_timer()\n",
    "\n",
    "\n",
    "# 무작위 배열 프로그램\n",
    "def random_shuffle():\n",
    "    list_nums = [1, 2, 3, 4, 5, 6, 7, 8, 9]\n",
    "    \n",
    "    random.shuffle(list_nums)\n",
    "    \n",
    "    return list_nums\n",
    "            \n",
    "for i in range(5):\n",
    "    print(random_shuffle())\n",
    "\n",
    "terminate = timeit.default_timer()\n",
    "\n",
    "print('time :',terminate - start)"
   ]
  },
  {
   "cell_type": "code",
   "execution_count": 35,
   "metadata": {},
   "outputs": [
    {
     "name": "stdout",
     "output_type": "stream",
     "text": [
      "[1, 8, 4, 5, 3, 2, 6, 9, 7]\n",
      "[9, 7, 4, 8, 2, 3, 6, 1, 5]\n",
      "[3, 9, 8, 4, 6, 5, 7, 2, 1]\n",
      "[1, 8, 7, 4, 3, 6, 5, 9, 2]\n",
      "[3, 9, 8, 6, 2, 7, 4, 1, 5]\n",
      "time : 0.00039722100154904183\n"
     ]
    }
   ],
   "source": [
    "import timeit\n",
    "import random\n",
    "\n",
    "# 무작위로 했을 때 시간 측정\n",
    "start = timeit.default_timer()\n",
    "\n",
    "\n",
    "# 무작위 배열 프로그램\n",
    "def random_sample():\n",
    "    \n",
    "    list_nums = [1, 2, 3, 4, 5, 6, 7, 8, 9]\n",
    "    list_random = []\n",
    "    list_random = random.sample(list_nums, 9)\n",
    "    \n",
    "    return list_random\n",
    "            \n",
    "for i in range(5):\n",
    "    print(random_sample())\n",
    "\n",
    "terminate = timeit.default_timer()\n",
    "\n",
    "print('time :',terminate - start)"
   ]
  },
  {
   "cell_type": "markdown",
   "metadata": {},
   "source": [
    "### [문제 5] 큐 파이썬 구현(알고리즘 문제)\n",
    " - 정수를 저장하는 큐를 구현한 다음, 입력으로 주어지는 명령을 처리하는 프로그램을 작성하시오.\n",
    " - 명령은 총 6가지\n",
    "  - push X : 정수 x를 큐에 넣는 연산\n",
    "  - pop : 큐에서 가장 앞에 있는 정수를 빼고, 그 수를 출력\n",
    "  - size : 큐에 들어있는 개수를 출력\n",
    "  - empty : 큐가 비어있으면 1, 아니면 0을 출력\n",
    "  - front : 큐의 가장 앞에 있는 정수를 출력, 만약 큐에 들어있는 정수가 없는 경우에는 -1을 출력\n",
    "  - back : 큐의 가장 뒤에 있는 정수를 출력, 만약 큐에 들어있는 정수가 없는 경우에는 -1을 출력\n",
    " - 첫째 줄에 주어지는 명령의 N (1 <= N <= 10000)이 주어진다. 둘째 줄부터 N개의 줄에는 명령이 하나씩 주어짐.\n",
    " - 주어지는 정수는 1 <= X <= 100000"
   ]
  },
  {
   "cell_type": "code",
   "execution_count": 212,
   "metadata": {},
   "outputs": [],
   "source": [
    "import re\n",
    "\n",
    "class Queue():\n",
    "    \n",
    "    def __init__(self):\n",
    "        self.queue = []\n",
    "        self.result = []\n",
    "        self.command_num = int(input())\n",
    "        for i in range(self.command_num):\n",
    "            command = input()\n",
    "            if re.search('push', command):\n",
    "                self.push(int(command[5:]))\n",
    "            elif re.search('pop', command):\n",
    "                self.pop()\n",
    "            elif re.search('front', command):\n",
    "                self.front()\n",
    "            elif re.search('back', command):\n",
    "                self.back()\n",
    "            elif re.search('size', command):\n",
    "                self.size()\n",
    "            elif re.search('empty', command):\n",
    "                self.empty()\n",
    "            else:\n",
    "                print('명령어는 push, pop, front, back, size, empty 입니다. 명령어를 확인해주세요.')\n",
    "        self.print_()        \n",
    "            \n",
    "    def push(self, x):\n",
    "            self.queue.append(x)\n",
    "        \n",
    "    def pop(self):\n",
    "        pop_object = None\n",
    "        if len(self.queue) == 0:\n",
    "            pop_object = -1\n",
    "        else:\n",
    "            pop_object = self.queue[0]\n",
    "            self.queue = self.queue[1:]\n",
    "            \n",
    "        self.result.append(pop_object)\n",
    "          \n",
    "    def front(self):       \n",
    "        front_object = None\n",
    "        if len(self.queue) == 0:\n",
    "            front_object = -1\n",
    "        else:\n",
    "            front_object = self.queue[0] \n",
    "            \n",
    "        self.result.append(front_object)\n",
    "        \n",
    "    def back(self):\n",
    "        back_object = None\n",
    "        if len(self.queue) == 0:\n",
    "            back_object = -1\n",
    "        else:\n",
    "            back_object = self.queue[-1]\n",
    "        \n",
    "        self.result.append(back_object)\n",
    "        \n",
    "    def size(self):\n",
    "        queue_size = len(self.queue)\n",
    "        \n",
    "        self.result.append(queue_size)\n",
    "        \n",
    "    def empty(self):\n",
    "        is_empty = 0\n",
    "        if len(self.queue) == 0:\n",
    "            is_empty = 1\n",
    "        \n",
    "        self.result.append(is_empty)\n",
    "    \n",
    "    def print_(self):\n",
    "        for i in range(len(self.result)):\n",
    "            print('\\t\\t',self.result[i], end = '\\n')\n",
    "\n",
    "\n",
    "\n",
    "\n",
    "       "
   ]
  },
  {
   "cell_type": "code",
   "execution_count": 211,
   "metadata": {
    "scrolled": true
   },
   "outputs": [
    {
     "name": "stdout",
     "output_type": "stream",
     "text": [
      "15\n",
      "push 1\n",
      "push 2\n",
      "front\n",
      "back\n",
      "size\n",
      "empty\n",
      "pop\n",
      "pop\n",
      "pop\n",
      "size\n",
      "empty\n",
      "pop\n",
      "push 3\n",
      "empty\n",
      "front\n",
      "\t\t 1\n",
      "\t\t 2\n",
      "\t\t 2\n",
      "\t\t 0\n",
      "\t\t 1\n",
      "\t\t 2\n",
      "\t\t -1\n",
      "\t\t 0\n",
      "\t\t 1\n",
      "\t\t -1\n",
      "\t\t 0\n",
      "\t\t 3\n"
     ]
    }
   ],
   "source": [
    "q = Queue()"
   ]
  }
 ],
 "metadata": {
  "kernelspec": {
   "display_name": "Python 3",
   "language": "python",
   "name": "python3"
  },
  "language_info": {
   "codemirror_mode": {
    "name": "ipython",
    "version": 3
   },
   "file_extension": ".py",
   "mimetype": "text/x-python",
   "name": "python",
   "nbconvert_exporter": "python",
   "pygments_lexer": "ipython3",
   "version": "3.8.5"
  }
 },
 "nbformat": 4,
 "nbformat_minor": 4
}
