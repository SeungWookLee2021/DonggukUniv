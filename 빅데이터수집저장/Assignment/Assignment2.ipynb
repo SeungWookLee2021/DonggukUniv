{
 "cells": [
  {
   "cell_type": "markdown",
   "metadata": {},
   "source": [
    "## 문제 1\n",
    "- 구글, 네이버, 다음에서 selenium 검색 후 나온 페이지 스크린샷"
   ]
  },
  {
   "cell_type": "code",
   "execution_count": 1,
   "metadata": {},
   "outputs": [
    {
     "data": {
      "text/plain": [
       "True"
      ]
     },
     "execution_count": 1,
     "metadata": {},
     "output_type": "execute_result"
    }
   ],
   "source": [
    "from selenium import webdriver\n",
    "from selenium.webdriver import Chrome\n",
    "from selenium.webdriver import ChromeOptions\n",
    "from selenium.webdriver.support.ui import WebDriverWait\n",
    "from selenium.webdriver.support import expected_conditions as EC\n",
    "from selenium.webdriver.common.by import By\n",
    "from selenium.webdriver.common.keys import Keys\n",
    "\n",
    "c_options = webdriver.ChromeOptions()\n",
    "c_options.add_argument('--no-sandbox')\n",
    "c_options.add_argument('--disable-dev-shm-usage')\n",
    "\n",
    "# Google\n",
    "driver = Chrome('C:/chromedriver.exe', options = c_options)\n",
    "\n",
    "driver.get('http://www.google.com')\n",
    "\n",
    "query_driver = WebDriverWait(driver, 10).until(\n",
    "    lambda x: x.find_element(By.NAME, 'q'))\n",
    "\n",
    "query_driver.send_keys('selenium' + Keys.ENTER)\n",
    "\n",
    "fileName = 'google_screenshot'\n",
    "driver.find_element(By.TAG_NAME, 'html').screenshot('./' + fileName + '.png')\n",
    "\n",
    "# Naver\n",
    "driver.get('http://www.naver.com')\n",
    "\n",
    "query_driver = WebDriverWait(driver, 10).until(\n",
    "    lambda x: x.find_element(By.NAME, 'query'))\n",
    "\n",
    "query_driver.send_keys('selenium' + Keys.ENTER)\n",
    "\n",
    "fileName = 'naver_screenshot'\n",
    "driver.find_element(By.TAG_NAME, 'html').screenshot('./' + fileName + '.png')\n",
    "\n",
    "# Daum\n",
    "driver.get('http://www.daum.net')\n",
    "\n",
    "query_driver = WebDriverWait(driver, 10).until(\n",
    "    lambda x: x.find_element(By.NAME, 'q'))\n",
    "\n",
    "query_driver.send_keys('selenium' + Keys.ENTER)\n",
    "\n",
    "fileName = 'daum_screenshot'\n",
    "driver.find_element(By.TAG_NAME, 'html').screenshot('./' + fileName + '.png')"
   ]
  },
  {
   "cell_type": "markdown",
   "metadata": {},
   "source": [
    "## 문제 2\n",
    "- 뽐뿌게시판에서 11번가 검색 후 2페이지로 이동하여 스크린샷"
   ]
  },
  {
   "cell_type": "code",
   "execution_count": 2,
   "metadata": {},
   "outputs": [
    {
     "data": {
      "text/plain": [
       "True"
      ]
     },
     "execution_count": 2,
     "metadata": {},
     "output_type": "execute_result"
    }
   ],
   "source": [
    "from selenium import webdriver\n",
    "from selenium.webdriver import Chrome\n",
    "from selenium.webdriver import ChromeOptions\n",
    "from selenium.webdriver.support.ui import WebDriverWait\n",
    "from selenium.webdriver.support import expected_conditions as EC\n",
    "from selenium.webdriver.common.by import By\n",
    "from selenium.webdriver.common.keys import Keys\n",
    "from selenium.webdriver.support.ui import Select\n",
    "\n",
    "c_options = webdriver.ChromeOptions()\n",
    "c_options.add_argument('--no-sandbox')\n",
    "c_options.add_argument('--disable-dev-shm-usage')\n",
    "\n",
    "driver = Chrome('C:/chromedriver.exe', options = c_options)\n",
    "\n",
    "driver.get('http://www.ppomppu.co.kr/zboard/zboard.php?id=ppomppu')\n",
    "\n",
    "select = Select(driver.find_element(By.ID, 'search_type'))\n",
    "select.select_by_value('subject')\n",
    "\n",
    "q_driver = WebDriverWait(driver, 10).until(\n",
    "    lambda x: x.find_element(By.ID, 'keyword'))\n",
    "q_driver.send_keys('11번가' + Keys.ENTER)\n",
    "\n",
    "page_driver = WebDriverWait(driver, 10).until(\n",
    "    lambda x: x.find_element(By.XPATH, '//*[@id=\"page_list\"]/font/a[1]'))\n",
    "page_driver.click()\n",
    "\n",
    "fileName = 'ppomppu_screenshot'\n",
    "driver.find_element(By.TAG_NAME, 'html').screenshot('./' + fileName + '.png')"
   ]
  }
 ],
 "metadata": {
  "kernelspec": {
   "display_name": "Python 3",
   "language": "python",
   "name": "python3"
  },
  "language_info": {
   "codemirror_mode": {
    "name": "ipython",
    "version": 3
   },
   "file_extension": ".py",
   "mimetype": "text/x-python",
   "name": "python",
   "nbconvert_exporter": "python",
   "pygments_lexer": "ipython3",
   "version": "3.8.5"
  }
 },
 "nbformat": 4,
 "nbformat_minor": 4
}
