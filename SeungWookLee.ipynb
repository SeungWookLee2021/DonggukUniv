{
 "cells": [
  {
   "cell_type": "markdown",
   "metadata": {},
   "source": [
    "### [문제 1] 문자열 뒤집기"
   ]
  },
  {
   "cell_type": "code",
   "execution_count": 5,
   "metadata": {},
   "outputs": [
    {
     "name": "stdout",
     "output_type": "stream",
     "text": [
      "Answer : ['o', 'l', 'l', 'e', 'h']\n"
     ]
    }
   ],
   "source": [
    "# Input\n",
    "s = ['h', 'e', 'l', 'l', 'o']\n",
    "\n",
    "# Output\n",
    "s_reverse = s[::-1] # 거꾸로 슬라이싱\n",
    "\n",
    "print('Answer :',s_reverse)"
   ]
  },
  {
   "cell_type": "markdown",
   "metadata": {},
   "source": [
    "### [문제 1] 코드 설명\n",
    "\n",
    "- [::-1] 을 통하여 역으로 인덱스 슬라이싱 후 s_reverse에 할당함"
   ]
  },
  {
   "cell_type": "markdown",
   "metadata": {},
   "source": [
    "\n",
    "-------------------------------------------------------------------------------------------------------------------------------------------\n"
   ]
  },
  {
   "cell_type": "markdown",
   "metadata": {},
   "source": [
    "### [문제 2] 1부터 10000까지 8이라는 숫자가 총 몇번 나오는가?\n",
    " - 8이라는 숫자를 모두 카운팅 해야한다.\n",
    " - 예를들어 8808은 3, 8888은 4로 카운팅"
   ]
  },
  {
   "cell_type": "code",
   "execution_count": 9,
   "metadata": {},
   "outputs": [
    {
     "name": "stdout",
     "output_type": "stream",
     "text": [
      "Answer : 4000\n"
     ]
    }
   ],
   "source": [
    "# 8의 개수 카운트 변수 선언\n",
    "count = 0\n",
    "# 카운팅\n",
    "for num in range(1, 10000 + 1):\n",
    "    count += str(num).count('8')\n",
    "\n",
    "print('Answer :',count)"
   ]
  },
  {
   "cell_type": "markdown",
   "metadata": {},
   "source": [
    "### [문제 2] 코드 설명\n",
    " 1. for 문을 이용하여 1부터 10000까지 숫자를 한 개씩 검사\n",
    "  - 이 때, count 내장함수를 사용. 따라서 숫자를 string 형식으로 바꿔주었음.\n",
    "  - 그 후 이 값을 count 변수에 계속해서 더하며 저장"
   ]
  },
  {
   "cell_type": "markdown",
   "metadata": {},
   "source": [
    "\n",
    "-------------------------------------------------------------------------------------------------------------------------------------------\n"
   ]
  },
  {
   "cell_type": "markdown",
   "metadata": {},
   "source": [
    "### [문제 3] 배열 바꾸기\n",
    " - ```[a1,a2,a3...,an,b1,b2...bn]``` > ```[a1,b1,a2,b2...an,bn]```"
   ]
  },
  {
   "cell_type": "code",
   "execution_count": 16,
   "metadata": {},
   "outputs": [
    {
     "name": "stdout",
     "output_type": "stream",
     "text": [
      "list_a : ['a1', 'a2', 'a3', 'a4', 'a5']\n",
      "list_b : ['b1', 'b2', 'b3', 'b4', 'b5']\n",
      "\n",
      "Answer : ['a1', 'b1', 'a2', 'b2', 'a3', 'b3', 'a4', 'b4', 'a5', 'b5']\n"
     ]
    }
   ],
   "source": [
    "list_all = ['a1', 'a2', 'a3', 'a4', 'a5', 'b1', 'b2', 'b3', 'b4', 'b5']\n",
    "\n",
    "# 리스트 나누기\n",
    "list_a = list_all[:int(len(list_all)/2)]\n",
    "list_b = list_all[int(len(list_all)/2):]\n",
    "\n",
    "# 리스트 확인\n",
    "print('list_a :', list_a)\n",
    "print('list_b :', list_b)\n",
    "\n",
    "# 리스트 변환\n",
    "answer = []\n",
    "for i in range(int(len(list_all)/2)):\n",
    "    answer.append(list_a[i])\n",
    "    answer.append(list_b[i])\n",
    "\n",
    "print()\n",
    "print('Answer :', answer)"
   ]
  },
  {
   "cell_type": "markdown",
   "metadata": {},
   "source": [
    "### [문제 3] 코드 설명\n",
    " 1. ```[a1,a2,a3...,an,b1,b2...bn]``` 과 같은 형식의 리스트가 있다고 했을 때, a와 b의 갯수는 모두 n개 이므로 ```int(len(list_all)/2)``` 을 이용하여 리스트를 분리\n",
    " 2. for 문을 이용하여 새로 정의한 빈 리스트 Answer에 순서대로 다시 append."
   ]
  },
  {
   "cell_type": "markdown",
   "metadata": {},
   "source": [
    "\n",
    "-------------------------------------------------------------------------------------------------------------------------------------------\n"
   ]
  },
  {
   "cell_type": "markdown",
   "metadata": {},
   "source": [
    "### [문제 4] 숫자 배열하기\n",
    " - 1~9 까지의 숫자를 무작위로 배열하는 프로그램을 만들어라\n",
    " - 이 때 무작위(random)으로 배열하면 오랜 시간이 걸리기 때문에 오랜시간이 걸리지 않는 코드를 만들어라."
   ]
  },
  {
   "cell_type": "code",
   "execution_count": 32,
   "metadata": {},
   "outputs": [
    {
     "name": "stdout",
     "output_type": "stream",
     "text": [
      "[4, 9, 8, 5, 6, 3, 2, 7, 1]\n",
      "[8, 6, 4, 9, 7, 1, 2, 5, 3]\n",
      "[1, 4, 6, 2, 9, 8, 7, 3, 5]\n",
      "[8, 2, 9, 5, 6, 1, 4, 3, 7]\n",
      "[1, 3, 9, 6, 5, 7, 2, 4, 8]\n",
      "time : 0.0003557559994078474\n"
     ]
    }
   ],
   "source": [
    "import timeit\n",
    "import random\n",
    "\n",
    "# 무작위로 했을 때 시간 측정\n",
    "start = timeit.default_timer()\n",
    "\n",
    "\n",
    "# 무작위 배열 프로그램\n",
    "def random_create():\n",
    "    list_random = []\n",
    "    while True:\n",
    "        random_num = random.randint(1, 9)\n",
    "\n",
    "        if random_num not in list_random:\n",
    "            list_random.append(random_num)\n",
    "\n",
    "        if len(list_random) == 9:\n",
    "                break\n",
    "                \n",
    "    return list_random\n",
    "            \n",
    "for i in range(5):\n",
    "    print(random_create())\n",
    "\n",
    "terminate = timeit.default_timer()\n",
    "\n",
    "print('time :',terminate - start)"
   ]
  },
  {
   "cell_type": "markdown",
   "metadata": {},
   "source": [
    "## 제일 빠른 방법"
   ]
  },
  {
   "cell_type": "code",
   "execution_count": 33,
   "metadata": {},
   "outputs": [
    {
     "name": "stdout",
     "output_type": "stream",
     "text": [
      "[2, 9, 3, 6, 5, 8, 1, 7, 4]\n",
      "[7, 6, 2, 8, 5, 3, 1, 4, 9]\n",
      "[9, 6, 5, 4, 3, 1, 7, 2, 8]\n",
      "[5, 8, 9, 6, 7, 1, 2, 4, 3]\n",
      "[1, 7, 6, 8, 5, 3, 4, 2, 9]\n",
      "time : 0.00022054500004742295\n"
     ]
    }
   ],
   "source": [
    "import timeit\n",
    "import random\n",
    "\n",
    "# 무작위로 했을 때 시간 측정\n",
    "start = timeit.default_timer()\n",
    "\n",
    "\n",
    "# 무작위 배열 프로그램\n",
    "def random_shuffle():\n",
    "    list_nums = [1, 2, 3, 4, 5, 6, 7, 8, 9]\n",
    "    \n",
    "    random.shuffle(list_nums)\n",
    "    \n",
    "    return list_nums\n",
    "            \n",
    "for i in range(5):\n",
    "    print(random_shuffle())\n",
    "\n",
    "terminate = timeit.default_timer()\n",
    "\n",
    "print('time :',terminate - start)"
   ]
  },
  {
   "cell_type": "code",
   "execution_count": 35,
   "metadata": {},
   "outputs": [
    {
     "name": "stdout",
     "output_type": "stream",
     "text": [
      "[1, 8, 4, 5, 3, 2, 6, 9, 7]\n",
      "[9, 7, 4, 8, 2, 3, 6, 1, 5]\n",
      "[3, 9, 8, 4, 6, 5, 7, 2, 1]\n",
      "[1, 8, 7, 4, 3, 6, 5, 9, 2]\n",
      "[3, 9, 8, 6, 2, 7, 4, 1, 5]\n",
      "time : 0.00039722100154904183\n"
     ]
    }
   ],
   "source": [
    "import timeit\n",
    "import random\n",
    "\n",
    "# 무작위로 했을 때 시간 측정\n",
    "start = timeit.default_timer()\n",
    "\n",
    "\n",
    "# 무작위 배열 프로그램\n",
    "def random_sample():\n",
    "    \n",
    "    list_nums = [1, 2, 3, 4, 5, 6, 7, 8, 9]\n",
    "    list_random = []\n",
    "    list_random = random.sample(list_nums, 9)\n",
    "    \n",
    "    return list_random\n",
    "            \n",
    "for i in range(5):\n",
    "    print(random_sample())\n",
    "\n",
    "terminate = timeit.default_timer()\n",
    "\n",
    "print('time :',terminate - start)"
   ]
  },
  {
   "cell_type": "markdown",
   "metadata": {},
   "source": [
    "### [문제 4] 코드 설명\n",
    " - 첫번째 방법 : 1 ~ 9 까지의 숫자를 랜덤으로 추출하여 변수로 생성 후 중복되지 않게 리스트에 담아주어 5개의 무작위 리스트 생성\n",
    "  - 걸린시간 : 0.0003557559994078474\n",
    " \n",
    " - 두번째 방법 : 먼저 1 ~ 9 까지의 숫자를 가진 리스트를 생성 후 주어진 리스트를 무작위로 섞는 방법으로 5개의 무작위 리스트 생성\n",
    "  - 걸린시간 : 0.00022054500004742295\n",
    " \n",
    " - 세번째 방법 : 먼저 1 ~ 9 까지의 숫자를 가진 리스트를 생성 후 주어진 리스트에서 무작위로 샘플링하여 5개의 무작위 리스트 생성\n",
    "  - 걸린시간 : 0.00039722100154904183\n",
    "  \n",
    "  \n",
    " * 따라서 기존 리스트를 무작위로 섞는 **두번째 방법** 이 가장 효율적이다."
   ]
  },
  {
   "cell_type": "markdown",
   "metadata": {},
   "source": [
    "\n",
    "-------------------------------------------------------------------------------------------------------------------------------------------\n"
   ]
  },
  {
   "cell_type": "markdown",
   "metadata": {},
   "source": [
    "### [문제 5] 큐 파이썬 구현(알고리즘 문제)\n",
    " - 정수를 저장하는 큐를 구현한 다음, 입력으로 주어지는 명령을 처리하는 프로그램을 작성하시오.\n",
    " - 명령은 총 6가지\n",
    "  - push X : 정수 x를 큐에 넣는 연산\n",
    "  - pop : 큐에서 가장 앞에 있는 정수를 빼고, 그 수를 출력\n",
    "  - size : 큐에 들어있는 개수를 출력\n",
    "  - empty : 큐가 비어있으면 1, 아니면 0을 출력\n",
    "  - front : 큐의 가장 앞에 있는 정수를 출력, 만약 큐에 들어있는 정수가 없는 경우에는 -1을 출력\n",
    "  - back : 큐의 가장 뒤에 있는 정수를 출력, 만약 큐에 들어있는 정수가 없는 경우에는 -1을 출력\n",
    " - 첫째 줄에 주어지는 명령의 N (1 <= N <= 10000)이 주어진다. 둘째 줄부터 N개의 줄에는 명령이 하나씩 주어짐.\n",
    " - 주어지는 정수는 1 <= X <= 100000"
   ]
  },
  {
   "cell_type": "code",
   "execution_count": 6,
   "metadata": {},
   "outputs": [],
   "source": [
    "import re\n",
    "import sys\n",
    "\n",
    "class Queue():\n",
    "    \n",
    "    def __init__(self):\n",
    "        self.queue = []\n",
    "        self.command_num = int(input())\n",
    "        \n",
    "        if self.command_num > 10000:\n",
    "            print('명령은 10000번을 넘을 수 없습니다!')\n",
    "            sys.exit()\n",
    "            \n",
    "        else:\n",
    "            for i in range(self.command_num):\n",
    "                command = input()\n",
    "                if re.search('push', command):\n",
    "                    self.push(int(float(command[5:]))) \n",
    "                elif re.search('pop', command):\n",
    "                    self.pop()\n",
    "                elif re.search('front', command):\n",
    "                    self.front()\n",
    "                elif re.search('back', command):\n",
    "                    self.back()\n",
    "                elif re.search('size', command):\n",
    "                    self.size()\n",
    "                elif re.search('empty', command):\n",
    "                    self.empty()\n",
    "                else:\n",
    "                    print('올바른 명령어를 입력해 주세요! (push 기능은 push n 형식을 이용해주세요.)')\n",
    "            \n",
    "    def push(self, x):\n",
    "            if x > 100000:\n",
    "                print('100,000 이하의 값을 입력해 주세요!')\n",
    "            elif x < 1:\n",
    "                print('1 이상의 값을 입력해 주세요!')\n",
    "            else:\n",
    "                self.queue.append(x)\n",
    "        \n",
    "    def pop(self):\n",
    "        pop_object = None\n",
    "        if len(self.queue) == 0:\n",
    "            pop_object = -1\n",
    "        else:\n",
    "            pop_object = self.queue[0]\n",
    "            self.queue = self.queue[1:]\n",
    "            \n",
    "        print('Pop Object는 ' , pop_object, ' 입니다.')\n",
    "          \n",
    "    def front(self):       \n",
    "        front_object = None\n",
    "        if len(self.queue) == 0:\n",
    "            front_object = -1\n",
    "        else:\n",
    "            front_object = self.queue[0] \n",
    "            \n",
    "        print('Front Object는 ', front_object,' 입니다.')\n",
    "        \n",
    "    def back(self):\n",
    "        back_object = None\n",
    "        if len(self.queue) == 0:\n",
    "            back_object = -1\n",
    "        else:\n",
    "            back_object = self.queue[-1]\n",
    "        \n",
    "        print('Back Object는 ', back_object, ' 입니다.')\n",
    "        \n",
    "    def size(self):\n",
    "        queue_size = len(self.queue)\n",
    "        \n",
    "        print('Queue Size는 ', queue_size, ' 입니다.')\n",
    "        \n",
    "    def empty(self):\n",
    "        is_empty = 0\n",
    "        if len(self.queue) == 0:\n",
    "            is_empty = 1\n",
    "        \n",
    "        print(is_empty, ' (비어있으면 1, 아니면 0 입니다.)')       "
   ]
  },
  {
   "cell_type": "code",
   "execution_count": 12,
   "metadata": {
    "scrolled": true
   },
   "outputs": [
    {
     "name": "stdout",
     "output_type": "stream",
     "text": [
      "15\n",
      "push 1\n",
      "push 2\n",
      "front\n",
      "Front Object는  1  입니다.\n",
      "back\n",
      "Back Object는  2  입니다.\n",
      "size\n",
      "Queue Size는  2  입니다.\n",
      "empty\n",
      "0  (비어있으면 1, 아니면 0 입니다.)\n",
      "pop\n",
      "Pop Object는  1  입니다.\n",
      "pop\n",
      "Pop Object는  2  입니다.\n",
      "pop\n",
      "Pop Object는  -1  입니다.\n",
      "size\n",
      "Queue Size는  0  입니다.\n",
      "empty\n",
      "1  (비어있으면 1, 아니면 0 입니다.)\n",
      "pop\n",
      "Pop Object는  -1  입니다.\n",
      "push 3\n",
      "empty\n",
      "0  (비어있으면 1, 아니면 0 입니다.)\n",
      "front\n",
      "Front Object는  3  입니다.\n"
     ]
    }
   ],
   "source": [
    "q = Queue()"
   ]
  },
  {
   "cell_type": "markdown",
   "metadata": {},
   "source": [
    "### [문제 5] 코드 설명\n",
    " 1. Function\n",
    "  - push : queue 리스트에 append / 범위를 벗어난 값을 입력 시 메세지 출력 구현\n",
    "  - pop : queue 리스트가 비어있으면 -1 출력 / 비어있지 않으면 queue[0] 값을 출력 후 queue[1:]을 새로운 queue로 수정\n",
    "  - front : queue 리스트가 비어있으면 -1 출력 / 비어있지 않으면 queue[0] 값을 출력\n",
    "  - back : queue 리스트가 비어있으면 -1을 출력 / 비어있지 않으면 queue[-1] (가장 마지막에 들어온 값)을 출력\n",
    "  - size : len 내장함수를 이용하여 queue 리스트의 길이를 출력\n",
    "  - empty : len 내장함수를 이용하여 비어있으면 1 / 비어있지 않으면 0을 출력\n",
    "\n",
    "\n",
    "\n",
    " 2. \\_\\_init\\_\\_ \n",
    "  - 정해진 명령의 수 만큼 입력받기 위해서 초기 클래스 생성 시 input 함수를 통해 명령의 수를 입력받아 command_num에 저장\n",
    "       - 조건문을 사용하여 command_num이 10000을 넘을 시 메세지 출력 후 시스템 강제종료\n",
    "  - for 문을 입력받은 명령의 수 (command_num) 만큼 input() 반복\n",
    "  - 전달받은 입력을 command 변수에 담아 re 모듈을 사용, 문자열을 비교하여 True, False를 반환하는 re.search를 조건으로 각 함수 실행\n",
    "       - 이 때, 입력받은 명령어가 함수에 없을 경우 '올바른 명령어를 입력해주세요!' 출력\n",
    "  - push 입력 시 요소 값을 전달하기 위해 먼저 문자열의 5번째 부터를 숫자라고 가정, 실수로 먼저 형변환 후 정수형으로 형변환하여 전달"
   ]
  }
 ],
 "metadata": {
  "kernelspec": {
   "display_name": "Python 3",
   "language": "python",
   "name": "python3"
  },
  "language_info": {
   "codemirror_mode": {
    "name": "ipython",
    "version": 3
   },
   "file_extension": ".py",
   "mimetype": "text/x-python",
   "name": "python",
   "nbconvert_exporter": "python",
   "pygments_lexer": "ipython3",
   "version": "3.8.8"
  }
 },
 "nbformat": 4,
 "nbformat_minor": 4
}
